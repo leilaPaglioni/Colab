{
  "nbformat": 4,
  "nbformat_minor": 0,
  "metadata": {
    "colab": {
      "provenance": [],
      "toc_visible": true,
      "gpuType": "T4",
      "authorship_tag": "ABX9TyPCfMtXKwDclPtkVuSE7OhD",
      "include_colab_link": true
    },
    "kernelspec": {
      "name": "python3",
      "display_name": "Python 3"
    },
    "language_info": {
      "name": "python"
    },
    "accelerator": "GPU"
  },
  "cells": [
    {
      "cell_type": "markdown",
      "metadata": {
        "id": "view-in-github",
        "colab_type": "text"
      },
      "source": [
        "<a href=\"https://colab.research.google.com/github/leilaPaglioni/Colab/blob/main/NLP_Udemy.ipynb\" target=\"_parent\"><img src=\"https://colab.research.google.com/assets/colab-badge.svg\" alt=\"Open In Colab\"/></a>"
      ]
    },
    {
      "cell_type": "code",
      "execution_count": null,
      "metadata": {
        "id": "aZWrnQqV1mW-"
      },
      "outputs": [],
      "source": [
        "!pip install -U spacy==3.2.0"
      ]
    },
    {
      "cell_type": "code",
      "source": [
        "!python -m spacy download 'pt_core_news_lg'"
      ],
      "metadata": {
        "id": "K7F_P-xQDlz-"
      },
      "execution_count": null,
      "outputs": []
    },
    {
      "cell_type": "code",
      "source": [
        "import spacy\n"
      ],
      "metadata": {
        "id": "8OIo6d_EEFmL"
      },
      "execution_count": 3,
      "outputs": []
    },
    {
      "cell_type": "code",
      "source": [
        "nlp = spacy.load('pt_core_news_lg')\n",
        "#print(type(nlp))"
      ],
      "metadata": {
        "id": "Px920TgzEKx_"
      },
      "execution_count": null,
      "outputs": []
    },
    {
      "cell_type": "code",
      "source": [
        "print(nlp.pipe_names)"
      ],
      "metadata": {
        "colab": {
          "base_uri": "https://localhost:8080/"
        },
        "id": "mdb95OmuFEn0",
        "outputId": "fffcc37a-9a23-4b2e-b867-1643298fe5f5"
      },
      "execution_count": 5,
      "outputs": [
        {
          "output_type": "stream",
          "name": "stdout",
          "text": [
            "['tok2vec', 'morphologizer', 'parser', 'attribute_ruler', 'lemmatizer', 'ner']\n"
          ]
        }
      ]
    },
    {
      "cell_type": "code",
      "source": [
        "documento = nlp(\"As ações do Magazine Luiza S.A., Franca, Brasil, acumularam baixa de 70% ao ano. Assim já devolveram todos os ganhos do período da pandemia.\")"
      ],
      "metadata": {
        "id": "5hi85y8UFRcH"
      },
      "execution_count": 6,
      "outputs": []
    },
    {
      "cell_type": "code",
      "source": [
        "len(documento.vocab)"
      ],
      "metadata": {
        "colab": {
          "base_uri": "https://localhost:8080/"
        },
        "id": "Om9mDFnVFlcS",
        "outputId": "fefbe8fc-9013-4377-89ad-5ac3c1fe0417"
      },
      "execution_count": 8,
      "outputs": [
        {
          "output_type": "execute_result",
          "data": {
            "text/plain": [
              "375"
            ]
          },
          "metadata": {},
          "execution_count": 8
        }
      ]
    },
    {
      "cell_type": "code",
      "source": [
        "print(type(documento))"
      ],
      "metadata": {
        "colab": {
          "base_uri": "https://localhost:8080/"
        },
        "id": "MVOoIDAZF6X7",
        "outputId": "7e9d03f2-aa16-44ee-ccd1-af61f7decae2"
      },
      "execution_count": 9,
      "outputs": [
        {
          "output_type": "stream",
          "name": "stdout",
          "text": [
            "<class 'spacy.tokens.doc.Doc'>\n"
          ]
        }
      ]
    },
    {
      "cell_type": "code",
      "source": [
        "for token in documento:\n",
        "  print(token.text)"
      ],
      "metadata": {
        "id": "g-epsNovRWSV"
      },
      "execution_count": null,
      "outputs": []
    },
    {
      "cell_type": "code",
      "source": [
        "print(documento[3])\n",
        "print(documento[3:5])"
      ],
      "metadata": {
        "colab": {
          "base_uri": "https://localhost:8080/"
        },
        "id": "Dg-Csf6iUY9g",
        "outputId": "eeafebdb-1fcb-41b8-dbcf-257bcc4b038b"
      },
      "execution_count": 11,
      "outputs": [
        {
          "output_type": "stream",
          "name": "stdout",
          "text": [
            "Magazine\n",
            "Magazine Luiza\n"
          ]
        }
      ]
    },
    {
      "cell_type": "code",
      "source": [
        "print(\"Tokens: \", [token.text for token in documento])\n",
        "print(\"Stop Word: \", [token.is_stop for token in documento])\n",
        "print(\"Alfanumérico: \", [token.is_alpha for token in documento])\n",
        "print(\"Maísculo: \", [token.is_upper for token in documento])\n",
        "print(\"Pontuação: \", [token.is_punct for token in documento])\n",
        "print(\"Número: \", [token.like_num for token in documento])\n",
        "print(\"Sentença inicial: \", [token.is_sent_start for token in documento])\n",
        "\n",
        "print(\"Tokens: \", [token.text for token in documento])\n",
        "print(\"Formato \", [token.shape_ for token in documento])"
      ],
      "metadata": {
        "id": "Q_ngJ0joVdiS"
      },
      "execution_count": null,
      "outputs": []
    },
    {
      "cell_type": "code",
      "source": [
        "for token in documento:\n",
        "  if token.like_num:\n",
        "    print(\"Némero encontrado: \", token.text)\n",
        "  if token.is_punct:\n",
        "    print(\"Pontuação encontrada: \", token.text)\n",
        "  if token.is_stop:\n",
        "    print(\"Stop Word encontrada: \", token.text)"
      ],
      "metadata": {
        "id": "DsxY6Bgvocyz"
      },
      "execution_count": null,
      "outputs": []
    },
    {
      "cell_type": "code",
      "source": [
        "for token in documento:\n",
        "  print(token.text, \" - \", token.pos_, \" - \", token.tag_, \" - \",token.dep_, \" - \",token.lemma_, \" - \",token.shape, \" - \",token.morph)"
      ],
      "metadata": {
        "id": "8v8HmeCdqOZJ"
      },
      "execution_count": null,
      "outputs": []
    },
    {
      "cell_type": "code",
      "source": [
        "for ent in documento.ents:\n",
        "  print(ent.text, \" - \", ent.label_)"
      ],
      "metadata": {
        "colab": {
          "base_uri": "https://localhost:8080/"
        },
        "id": "cLJrFP-prbbY",
        "outputId": "5547998b-f031-4a05-f2a4-06d4bce587be"
      },
      "execution_count": 14,
      "outputs": [
        {
          "output_type": "stream",
          "name": "stdout",
          "text": [
            "Magazine Luiza S.A.  -  ORG\n",
            "Franca  -  LOC\n",
            "Brasil  -  LOC\n"
          ]
        }
      ]
    },
    {
      "cell_type": "code",
      "source": [
        "for words in nlp.Defaults.stop_words\n",
        "  print(words)\n",
        "\n",
        "nlp.Defaults.stop_words.add(\"eita\")\n",
        "nlp.vocab['eita'].is_stop = True"
      ],
      "metadata": {
        "id": "c9PoS-oXtHXU"
      },
      "execution_count": null,
      "outputs": []
    },
    {
      "cell_type": "code",
      "source": [
        "token_lista = []\n",
        "for token in documento:\n",
        "  token_lista.append(token.text)\n",
        "\n",
        "stop_lista = []\n",
        "for words in nlp.Defaults.stop_words:\n",
        "  stop_lista.append(words)\n",
        "\n",
        "sem_stop = [word for word in token_lista if not word in stop_lista]\n",
        "\n",
        "print(documento.text)\n",
        "print(sem_stop)"
      ],
      "metadata": {
        "id": "qtIyoIJqvwEq"
      },
      "execution_count": null,
      "outputs": []
    },
    {
      "cell_type": "code",
      "source": [
        "print(\"Hash \", nlp.vocab.strings[\"dados\"])\n",
        "print(\"Hash \", documento.vocab.strings[\"dados\"])\n",
        "print(\"string \", nlp.vocab.strings[6013848609874238634])"
      ],
      "metadata": {
        "colab": {
          "base_uri": "https://localhost:8080/"
        },
        "id": "encKqzVtxfZA",
        "outputId": "8ac4619e-64f9-4c1b-a40b-ed82add1c280"
      },
      "execution_count": 19,
      "outputs": [
        {
          "output_type": "stream",
          "name": "stdout",
          "text": [
            "Hash  6013848609874238634\n",
            "Hash  6013848609874238634\n",
            "string  dados\n"
          ]
        }
      ]
    },
    {
      "cell_type": "code",
      "source": [
        "lex = nlp.vocab[\"dados\"]\n",
        "print(lex.text, \" - \",lex.orth,\" - \",lex.is_alpha, \" - \",lex.is_lower)"
      ],
      "metadata": {
        "colab": {
          "base_uri": "https://localhost:8080/"
        },
        "id": "vDNIWoBbyKsk",
        "outputId": "1bb04531-003a-421e-8d1c-1a66bd92fce6"
      },
      "execution_count": 20,
      "outputs": [
        {
          "output_type": "stream",
          "name": "stdout",
          "text": [
            "dados  -  6013848609874238634  -  True  -  True\n"
          ]
        }
      ]
    },
    {
      "cell_type": "code",
      "source": [
        "print(nlp(\"dados\").vector.shape)\n",
        "print(nlp(\"dados\").vector)"
      ],
      "metadata": {
        "id": "IwnpATEcyzh1"
      },
      "execution_count": null,
      "outputs": []
    },
    {
      "cell_type": "code",
      "source": [
        "documento1 = nlp(\"Ela viaja regularmente de carro\")\n",
        "documento2 = nlp(\"Ela viaja regularmente de avião\")\n",
        "print(documento1.similarity(documento2))\n",
        "print(documento2.similarity(documento1))"
      ],
      "metadata": {
        "id": "8ifU__t40pkV"
      },
      "execution_count": null,
      "outputs": []
    },
    {
      "cell_type": "markdown",
      "source": [
        "##LIB Matcher para buscar padrões"
      ],
      "metadata": {
        "id": "TM_vIUqz37fx"
      }
    },
    {
      "cell_type": "code",
      "source": [
        "from re import T\n",
        "#form spacy.matcher import Matcher\n",
        "\n",
        "matcher = spacy.matcher(nlp.vocab)\n",
        "\n",
        "padrao = [{'ORTH':'()'}, {\"SHAPE\": \"dd\"}, {\"ORTH\": \")\"},\n",
        "          {\"ORTH\": \"-\", \"OP\": \"?\"}, {\"IS_DIGIT\": True}]\n",
        "\n",
        "matcher.add(\"Telefone\", [padrao])\n",
        "documento5 = nlp(\"Você pode ligar para (51) - 9964656570 ou (11) 12344988 \")\n",
        "\n",
        "matches = matcher(documento5)\n",
        "for match_id, statur, end in matches:\n",
        "  print(documento5[start:end])"
      ],
      "metadata": {
        "id": "CgUa4sbp4HJh"
      },
      "execution_count": null,
      "outputs": []
    },
    {
      "cell_type": "code",
      "source": [
        "matcher = spacy.matcher(nlp.vocab)\n",
        "documento5 = nlp(\"Estamos infectados com micro organismos. MICROORGANISMOSS são perigosos. Não enxergamos os micro-organismos\")\n",
        "\n",
        "padrao1 = [{\"LOWER\": \"micro organismos\"}]\n",
        "padrao2= [{\"LOWER\": \"micro-organismos\"}]\n",
        "padrao3 = [{\"LOWER\": \"micro\"}, {\"LOWER\": \" organismos\"}]\n",
        "\n",
        "matcher.add(\"Padrão\", [padrao1, padrao2, padrao3])\n",
        "matches = matcher(documento6)\n",
        "for match_id, statur, end in matches:\n",
        "  print(documento6[start:end])"
      ],
      "metadata": {
        "id": "kjaQLT5Y-bQ_"
      },
      "execution_count": null,
      "outputs": []
    }
  ]
}